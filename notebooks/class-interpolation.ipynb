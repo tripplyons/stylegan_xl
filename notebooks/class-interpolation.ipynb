{
  "nbformat": 4,
  "nbformat_minor": 0,
  "metadata": {
    "colab": {
      "name": "StyleGAN-XL Class Interpolation.ipynb",
      "provenance": [],
      "collapsed_sections": [],
      "private_outputs": true,
      "authorship_tag": "ABX9TyMbs6PrlRHS7XJCApXOexm8"
    },
    "kernelspec": {
      "name": "python3",
      "display_name": "Python 3"
    },
    "language_info": {
      "name": "python"
    },
    "accelerator": "GPU"
  },
  "cells": [
    {
      "cell_type": "markdown",
      "source": [
        "# StyleGAN-XL Class Interpolation\n",
        "\n",
        "Generate a video of StyleGAN-XL interpolation between multiple ImageNet classes\n",
        "\n",
        "[![Open In Colab](https://colab.research.google.com/assets/colab-badge.svg)](https://colab.research.google.com/github/tripplyons/stylegan_xl/blob/master/notebooks/class-interpolation.ipynb)\n",
        "\n",
        "[![GitHub stars](https://img.shields.io/github/stars/tripplyons/stylegan_xl?style=social&label=Star&maxAge=2592000)](https://GitHub.com/tripplyons/stylegan_xl)"
      ],
      "metadata": {
        "id": "M9G-0CSUPX8a"
      }
    },
    {
      "cell_type": "code",
      "execution_count": null,
      "metadata": {
        "id": "zYTpDPkSLilY"
      },
      "outputs": [],
      "source": [
        "# Installation\n",
        "!git clone https://github.com/tripplyons/stylegan_xl.git\n",
        "!pip install timm==0.4.12 ftfy==6.1.1 ninja==1.10.2"
      ]
    },
    {
      "cell_type": "code",
      "source": [
        "# Generate a video and save it to /content/stylegan_xl/lerp.mp4\n",
        "%cd /content/stylegan_xl/\n",
        "!python gen_video_interp_class.py --output=lerp.mp4 --trunc=0.7 --seeds=0-19 --grid=1x1 --w-frames 300 \\\n",
        "  --network=https://s3.eu-central-1.amazonaws.com/avg-projects/stylegan_xl/models/imagenet256.pkl"
      ],
      "metadata": {
        "id": "QA-qS2OnLrC0"
      },
      "execution_count": null,
      "outputs": []
    }
  ]
}